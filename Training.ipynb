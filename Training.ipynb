{
 "cells": [
  {
   "cell_type": "code",
   "execution_count": 1,
   "metadata": {
    "id": "pb5EquM8r5zc"
   },
   "outputs": [],
   "source": [
    "\n",
    "#Importing libraries\n",
    "import matplotlib.pyplot as plt   #for ploting\n",
    "import numpy as np                #for arrays\n",
    "import torch                      #for definig neural network\n",
    "from torch import nn              #for definign NN\n",
    "from torch import optim           #for defining optimizer\n",
    "from torchsummary import summary  #for model summary\n",
    "import torch.nn.functional as F   #for \n",
    "from torchvision import datasets, transforms, models  #for downloading models\n",
    "import torchvision.models as models   #for downlaoding models\n",
    "from PIL import Image         #for manipulating image \n",
    "from matplotlib.ticker import FormatStrFormatter #for Ploting\n",
    "import os      "
   ]
  },
  {
   "cell_type": "code",
   "execution_count": 2,
   "metadata": {
    "id": "QpGg6GP_sLAw"
   },
   "outputs": [],
   "source": [
    "# Tansform with data augmentation and normalization for training\n",
    "# Just normalization for validation\n",
    "# Training transform includes random rotation and flip to build a more robust model\n",
    "\n",
    "#definig augmentation for train data RESIZING ROTATING FLIP CONVERTING TO TENSOR AND NORMALIZATION\n",
    "\n",
    "train_transforms = transforms.Compose([transforms.Resize((244,244)),\n",
    "                                       transforms.RandomRotation(30),\n",
    "                                       transforms.RandomHorizontalFlip(),\n",
    "                                       transforms.ToTensor(),\n",
    "                                       transforms.Normalize((0.5, 0.5, 0.5), (0.5, 0.5, 0.5))])\n",
    "\n",
    "#transform for valid data RESIZE CONVERTING TO TENSOR NORMALIZATIOM\n",
    "valid_transforms = transforms.Compose([transforms.Resize((244,244)),\n",
    "                                      transforms.ToTensor(),\n",
    "                                      transforms.Normalize((0.5, 0.5, 0.5), (0.5, 0.5, 0.5))])\n",
    "\n",
    "\n",
    "#transform for test data RESIZE CONVERTING TO TENSOR NORMALIZATIOM\n",
    "test_transforms = transforms.Compose([transforms.Resize((244,244)),\n",
    "                                      transforms.ToTensor(),\n",
    "                                      transforms.Normalize((0.5, 0.5, 0.5), (0.5, 0.5, 0.5))])"
   ]
  },
  {
   "cell_type": "code",
   "execution_count": 3,
   "metadata": {
    "colab": {
     "base_uri": "https://localhost:8080/"
    },
    "id": "Ht4fFMs7sUZC",
    "outputId": "6c75a412-2fa3-42e8-b54f-31b0a014643c"
   },
   "outputs": [
    {
     "name": "stdout",
     "output_type": "stream",
     "text": [
      "Number of Samples in Train:  585\n",
      "Number of Samples in Valid:  65\n",
      "Number of Samples in Test:  150\n",
      "Total:  800\n",
      "Number of Classes:  5\n",
      "['0% Rotten', '100% Rotten', '25% Rotten', '50% Rotten', '75% Rotten']\n"
     ]
    }
   ],
   "source": [
    "train_dir = 'Dataset\\Dataset\\Train'\n",
    "test_dir = 'Dataset\\Dataset\\Test'\n",
    "\n",
    "batch_size=64\n",
    "#no of images feed to the network at one time\n",
    "\n",
    "#Loading Dataset\n",
    "dataset = datasets.ImageFolder(train_dir,transform=train_transforms)\n",
    "testdataset = datasets.ImageFolder(test_dir,transform=test_transforms)\n",
    "# splitting our dataset into Train and Validation Dataset\n",
    "valid_size  = int(0.1 * len(dataset))\n",
    "train_size = len(dataset) - valid_size\n",
    "dataset_sizes = {'train': train_size, 'valid': valid_size}\n",
    "\n",
    "train_dataset, valid_dataset = torch.utils.data.random_split(dataset, [train_size, valid_size])\n",
    "\n",
    "# Loading datasets into dataloader\n",
    "trainloader = torch.utils.data.DataLoader(train_dataset, batch_size=batch_size, shuffle=True)\n",
    "validloader = torch.utils.data.DataLoader(valid_dataset, batch_size=batch_size, shuffle=True)\n",
    "testloader = torch.utils.data.DataLoader(testdataset, batch_size=batch_size, shuffle=True)\n",
    "\n",
    "print(\"Number of Samples in Train: \",len(train_dataset))\n",
    "print(\"Number of Samples in Valid: \",len(valid_dataset))\n",
    "print(\"Number of Samples in Test: \",len(testdataset))\n",
    "print(\"Total: \",len(testdataset)+len(valid_dataset)+len(train_dataset))\n",
    "\n",
    "print(\"Number of Classes: \",len(testdataset.classes))\n",
    "\n",
    "print(dataset.classes)"
   ]
  },
  {
   "cell_type": "code",
   "execution_count": 4,
   "metadata": {
    "colab": {
     "base_uri": "https://localhost:8080/"
    },
    "id": "ojUjdpRwskQE",
    "outputId": "ee6255e7-7b50-49c9-869e-43bb1617d55a"
   },
   "outputs": [
    {
     "name": "stdout",
     "output_type": "stream",
     "text": [
      "cpu\n"
     ]
    }
   ],
   "source": [
    "device = torch.device(\"cuda\" if torch.cuda.is_available() else \"cpu\")\n",
    "print(device)"
   ]
  },
  {
   "cell_type": "code",
   "execution_count": 5,
   "metadata": {
    "colab": {
     "base_uri": "https://localhost:8080/"
    },
    "id": "9uQOe-9RtHao",
    "outputId": "540d0974-2111-4671-d02d-1e75bf02a3d4"
   },
   "outputs": [
    {
     "name": "stderr",
     "output_type": "stream",
     "text": [
      "c:\\Users\\sai64\\OneDrive\\Desktop\\Studies\\mini\\Detection-of-Rotten-Fruits-DRF-Using-Image-Processing-Python\\work\\Lib\\site-packages\\torchvision\\models\\_utils.py:208: UserWarning: The parameter 'pretrained' is deprecated since 0.13 and may be removed in the future, please use 'weights' instead.\n",
      "  warnings.warn(\n",
      "c:\\Users\\sai64\\OneDrive\\Desktop\\Studies\\mini\\Detection-of-Rotten-Fruits-DRF-Using-Image-Processing-Python\\work\\Lib\\site-packages\\torchvision\\models\\_utils.py:223: UserWarning: Arguments other than a weight enum or `None` for 'weights' are deprecated since 0.13 and may be removed in the future. The current behavior is equivalent to passing `weights=ResNet34_Weights.IMAGENET1K_V1`. You can also use `weights=ResNet34_Weights.DEFAULT` to get the most up-to-date weights.\n",
      "  warnings.warn(msg)\n"
     ]
    },
    {
     "name": "stdout",
     "output_type": "stream",
     "text": [
      "----------------------------------------------------------------\n",
      "        Layer (type)               Output Shape         Param #\n",
      "================================================================\n",
      "            Conv2d-1         [-1, 64, 122, 122]           9,408\n",
      "       BatchNorm2d-2         [-1, 64, 122, 122]             128\n",
      "              ReLU-3         [-1, 64, 122, 122]               0\n",
      "         MaxPool2d-4           [-1, 64, 61, 61]               0\n",
      "            Conv2d-5           [-1, 64, 61, 61]          36,864\n",
      "       BatchNorm2d-6           [-1, 64, 61, 61]             128\n",
      "              ReLU-7           [-1, 64, 61, 61]               0\n",
      "            Conv2d-8           [-1, 64, 61, 61]          36,864\n",
      "       BatchNorm2d-9           [-1, 64, 61, 61]             128\n",
      "             ReLU-10           [-1, 64, 61, 61]               0\n",
      "       BasicBlock-11           [-1, 64, 61, 61]               0\n",
      "           Conv2d-12           [-1, 64, 61, 61]          36,864\n",
      "      BatchNorm2d-13           [-1, 64, 61, 61]             128\n",
      "             ReLU-14           [-1, 64, 61, 61]               0\n",
      "           Conv2d-15           [-1, 64, 61, 61]          36,864\n",
      "      BatchNorm2d-16           [-1, 64, 61, 61]             128\n",
      "             ReLU-17           [-1, 64, 61, 61]               0\n",
      "       BasicBlock-18           [-1, 64, 61, 61]               0\n",
      "           Conv2d-19           [-1, 64, 61, 61]          36,864\n",
      "      BatchNorm2d-20           [-1, 64, 61, 61]             128\n",
      "             ReLU-21           [-1, 64, 61, 61]               0\n",
      "           Conv2d-22           [-1, 64, 61, 61]          36,864\n",
      "      BatchNorm2d-23           [-1, 64, 61, 61]             128\n",
      "             ReLU-24           [-1, 64, 61, 61]               0\n",
      "       BasicBlock-25           [-1, 64, 61, 61]               0\n",
      "           Conv2d-26          [-1, 128, 31, 31]          73,728\n",
      "      BatchNorm2d-27          [-1, 128, 31, 31]             256\n",
      "             ReLU-28          [-1, 128, 31, 31]               0\n",
      "           Conv2d-29          [-1, 128, 31, 31]         147,456\n",
      "      BatchNorm2d-30          [-1, 128, 31, 31]             256\n",
      "           Conv2d-31          [-1, 128, 31, 31]           8,192\n",
      "      BatchNorm2d-32          [-1, 128, 31, 31]             256\n",
      "             ReLU-33          [-1, 128, 31, 31]               0\n",
      "       BasicBlock-34          [-1, 128, 31, 31]               0\n",
      "           Conv2d-35          [-1, 128, 31, 31]         147,456\n",
      "      BatchNorm2d-36          [-1, 128, 31, 31]             256\n",
      "             ReLU-37          [-1, 128, 31, 31]               0\n",
      "           Conv2d-38          [-1, 128, 31, 31]         147,456\n",
      "      BatchNorm2d-39          [-1, 128, 31, 31]             256\n",
      "             ReLU-40          [-1, 128, 31, 31]               0\n",
      "       BasicBlock-41          [-1, 128, 31, 31]               0\n",
      "           Conv2d-42          [-1, 128, 31, 31]         147,456\n",
      "      BatchNorm2d-43          [-1, 128, 31, 31]             256\n",
      "             ReLU-44          [-1, 128, 31, 31]               0\n",
      "           Conv2d-45          [-1, 128, 31, 31]         147,456\n",
      "      BatchNorm2d-46          [-1, 128, 31, 31]             256\n",
      "             ReLU-47          [-1, 128, 31, 31]               0\n",
      "       BasicBlock-48          [-1, 128, 31, 31]               0\n",
      "           Conv2d-49          [-1, 128, 31, 31]         147,456\n",
      "      BatchNorm2d-50          [-1, 128, 31, 31]             256\n",
      "             ReLU-51          [-1, 128, 31, 31]               0\n",
      "           Conv2d-52          [-1, 128, 31, 31]         147,456\n",
      "      BatchNorm2d-53          [-1, 128, 31, 31]             256\n",
      "             ReLU-54          [-1, 128, 31, 31]               0\n",
      "       BasicBlock-55          [-1, 128, 31, 31]               0\n",
      "           Conv2d-56          [-1, 256, 16, 16]         294,912\n",
      "      BatchNorm2d-57          [-1, 256, 16, 16]             512\n",
      "             ReLU-58          [-1, 256, 16, 16]               0\n",
      "           Conv2d-59          [-1, 256, 16, 16]         589,824\n",
      "      BatchNorm2d-60          [-1, 256, 16, 16]             512\n",
      "           Conv2d-61          [-1, 256, 16, 16]          32,768\n",
      "      BatchNorm2d-62          [-1, 256, 16, 16]             512\n",
      "             ReLU-63          [-1, 256, 16, 16]               0\n",
      "       BasicBlock-64          [-1, 256, 16, 16]               0\n",
      "           Conv2d-65          [-1, 256, 16, 16]         589,824\n",
      "      BatchNorm2d-66          [-1, 256, 16, 16]             512\n",
      "             ReLU-67          [-1, 256, 16, 16]               0\n",
      "           Conv2d-68          [-1, 256, 16, 16]         589,824\n",
      "      BatchNorm2d-69          [-1, 256, 16, 16]             512\n",
      "             ReLU-70          [-1, 256, 16, 16]               0\n",
      "       BasicBlock-71          [-1, 256, 16, 16]               0\n",
      "           Conv2d-72          [-1, 256, 16, 16]         589,824\n",
      "      BatchNorm2d-73          [-1, 256, 16, 16]             512\n",
      "             ReLU-74          [-1, 256, 16, 16]               0\n",
      "           Conv2d-75          [-1, 256, 16, 16]         589,824\n",
      "      BatchNorm2d-76          [-1, 256, 16, 16]             512\n",
      "             ReLU-77          [-1, 256, 16, 16]               0\n",
      "       BasicBlock-78          [-1, 256, 16, 16]               0\n",
      "           Conv2d-79          [-1, 256, 16, 16]         589,824\n",
      "      BatchNorm2d-80          [-1, 256, 16, 16]             512\n",
      "             ReLU-81          [-1, 256, 16, 16]               0\n",
      "           Conv2d-82          [-1, 256, 16, 16]         589,824\n",
      "      BatchNorm2d-83          [-1, 256, 16, 16]             512\n",
      "             ReLU-84          [-1, 256, 16, 16]               0\n",
      "       BasicBlock-85          [-1, 256, 16, 16]               0\n",
      "           Conv2d-86          [-1, 256, 16, 16]         589,824\n",
      "      BatchNorm2d-87          [-1, 256, 16, 16]             512\n",
      "             ReLU-88          [-1, 256, 16, 16]               0\n",
      "           Conv2d-89          [-1, 256, 16, 16]         589,824\n",
      "      BatchNorm2d-90          [-1, 256, 16, 16]             512\n",
      "             ReLU-91          [-1, 256, 16, 16]               0\n",
      "       BasicBlock-92          [-1, 256, 16, 16]               0\n",
      "           Conv2d-93          [-1, 256, 16, 16]         589,824\n",
      "      BatchNorm2d-94          [-1, 256, 16, 16]             512\n",
      "             ReLU-95          [-1, 256, 16, 16]               0\n",
      "           Conv2d-96          [-1, 256, 16, 16]         589,824\n",
      "      BatchNorm2d-97          [-1, 256, 16, 16]             512\n",
      "             ReLU-98          [-1, 256, 16, 16]               0\n",
      "       BasicBlock-99          [-1, 256, 16, 16]               0\n",
      "          Conv2d-100            [-1, 512, 8, 8]       1,179,648\n",
      "     BatchNorm2d-101            [-1, 512, 8, 8]           1,024\n",
      "            ReLU-102            [-1, 512, 8, 8]               0\n",
      "          Conv2d-103            [-1, 512, 8, 8]       2,359,296\n",
      "     BatchNorm2d-104            [-1, 512, 8, 8]           1,024\n",
      "          Conv2d-105            [-1, 512, 8, 8]         131,072\n",
      "     BatchNorm2d-106            [-1, 512, 8, 8]           1,024\n",
      "            ReLU-107            [-1, 512, 8, 8]               0\n",
      "      BasicBlock-108            [-1, 512, 8, 8]               0\n",
      "          Conv2d-109            [-1, 512, 8, 8]       2,359,296\n",
      "     BatchNorm2d-110            [-1, 512, 8, 8]           1,024\n",
      "            ReLU-111            [-1, 512, 8, 8]               0\n",
      "          Conv2d-112            [-1, 512, 8, 8]       2,359,296\n",
      "     BatchNorm2d-113            [-1, 512, 8, 8]           1,024\n",
      "            ReLU-114            [-1, 512, 8, 8]               0\n",
      "      BasicBlock-115            [-1, 512, 8, 8]               0\n",
      "          Conv2d-116            [-1, 512, 8, 8]       2,359,296\n",
      "     BatchNorm2d-117            [-1, 512, 8, 8]           1,024\n",
      "            ReLU-118            [-1, 512, 8, 8]               0\n",
      "          Conv2d-119            [-1, 512, 8, 8]       2,359,296\n",
      "     BatchNorm2d-120            [-1, 512, 8, 8]           1,024\n",
      "            ReLU-121            [-1, 512, 8, 8]               0\n",
      "      BasicBlock-122            [-1, 512, 8, 8]               0\n",
      "AdaptiveAvgPool2d-123            [-1, 512, 1, 1]               0\n",
      "          Linear-124                    [-1, 5]           2,565\n",
      "================================================================\n",
      "Total params: 21,287,237\n",
      "Trainable params: 21,287,237\n",
      "Non-trainable params: 0\n",
      "----------------------------------------------------------------\n",
      "Input size (MB): 0.68\n",
      "Forward/backward pass size (MB): 117.68\n",
      "Params size (MB): 81.20\n",
      "Estimated Total Size (MB): 199.57\n",
      "----------------------------------------------------------------\n"
     ]
    }
   ],
   "source": [
    "#loading pre define ResNet model \n",
    "model = models.resnet34(pretrained=True)\n",
    "#****************CHANGING THE OUTPUT LAYER A/C to our requirement*********************\n",
    "num_ftrs = model.fc.in_features\n",
    "model.fc = nn.Linear(num_ftrs, 5)\n",
    "model = model.to(device)\n",
    "\n",
    "\n",
    "summary(model, input_size=(3, 244, 244))"
   ]
  },
  {
   "cell_type": "code",
   "execution_count": 6,
   "metadata": {
    "id": "BP2ShJAJtL84"
   },
   "outputs": [],
   "source": [
    "criterion = nn.CrossEntropyLoss()\n",
    "optimizer = optim.SGD(model.parameters(), lr=0.01, momentum=0.9)\n",
    "lrscheduler = optim.lr_scheduler.ReduceLROnPlateau(optimizer, mode='max', patience=3, threshold = 0.9)"
   ]
  },
  {
   "cell_type": "code",
   "execution_count": 7,
   "metadata": {
    "id": "tdA5aUSytSzl"
   },
   "outputs": [],
   "source": [
    "def validation(model, validloader, criterion):\n",
    "    valid_loss = 0\n",
    "    accuracy = 0\n",
    "    \n",
    "    # change model to work with cuda\n",
    "    model.to(device)\n",
    "\n",
    "    # Iterate over data from validloader\n",
    "    for ii, (images, labels) in enumerate(validloader):\n",
    "    \n",
    "        # Change images and labels to work with cuda\n",
    "        images, labels = images.to(device), labels.to(device)\n",
    "        \n",
    "        # Forward pass image though model for prediction\n",
    "        output = model.forward(images)\n",
    "        # Calculate loss\n",
    "        valid_loss += criterion(output, labels).item()\n",
    "        # Calculate probability\n",
    "        ps = torch.exp(output)\n",
    "        \n",
    "        # Calculate accuracy\n",
    "        equality = (labels.data == ps.max(dim=1)[1])\n",
    "        accuracy += equality.type(torch.FloatTensor).mean()\n",
    "    \n",
    "    return valid_loss, accuracy"
   ]
  },
  {
   "cell_type": "code",
   "execution_count": null,
   "metadata": {},
   "outputs": [],
   "source": []
  },
  {
   "cell_type": "code",
   "execution_count": 8,
   "metadata": {
    "colab": {
     "base_uri": "https://localhost:8080/"
    },
    "id": "84nnf64vtXYR",
    "outputId": "d5dbb1f4-ba6f-4fab-d77a-67154b88115b"
   },
   "outputs": [
    {
     "name": "stdout",
     "output_type": "stream",
     "text": [
      "Starting Epoch 1\n"
     ]
    },
    {
     "name": "stderr",
     "output_type": "stream",
     "text": [
      "c:\\Users\\sai64\\OneDrive\\Desktop\\Studies\\mini\\Detection-of-Rotten-Fruits-DRF-Using-Image-Processing-Python\\work\\Lib\\site-packages\\PIL\\Image.py:992: UserWarning: Palette images with Transparency expressed in bytes should be converted to RGBA images\n",
      "  warnings.warn(\n"
     ]
    },
    {
     "name": "stdout",
     "output_type": "stream",
     "text": [
      "No. epochs: 1 \tTraining Loss: 1.414 \tValid Loss 1.228 \tValid Accuracy 0.25\n",
      "Starting Epoch 2\n",
      "No. epochs: 2 \tTraining Loss: 0.953 \tValid Loss 0.742 \tValid Accuracy 0.758\n",
      "Starting Epoch 3\n",
      "No. epochs: 3 \tTraining Loss: 0.922 \tValid Loss 1.721 \tValid Accuracy 0.266\n",
      "Starting Epoch 4\n",
      "No. epochs: 4 \tTraining Loss: 0.681 \tValid Loss 2.452 \tValid Accuracy 0.344\n",
      "Starting Epoch 5\n",
      "No. epochs: 5 \tTraining Loss: 0.752 \tValid Loss 0.72 \tValid Accuracy 0.781\n",
      "Starting Epoch 6\n",
      "No. epochs: 6 \tTraining Loss: 0.808 \tValid Loss 4.544 \tValid Accuracy 0.211\n",
      "Starting Epoch 7\n",
      "No. epochs: 7 \tTraining Loss: 0.754 \tValid Loss 0.912 \tValid Accuracy 0.789\n",
      "Starting Epoch 8\n",
      "No. epochs: 8 \tTraining Loss: 0.464 \tValid Loss 0.55 \tValid Accuracy 0.828\n",
      "Starting Epoch 9\n",
      "No. epochs: 9 \tTraining Loss: 0.382 \tValid Loss 0.546 \tValid Accuracy 0.852\n",
      "Starting Epoch 10\n",
      "No. epochs: 10 \tTraining Loss: 0.328 \tValid Loss 3.527 \tValid Accuracy 0.352\n",
      "Starting Epoch 11\n",
      "No. epochs: 11 \tTraining Loss: 0.316 \tValid Loss 1.707 \tValid Accuracy 0.359\n",
      "Starting Epoch 12\n",
      "No. epochs: 12 \tTraining Loss: 0.302 \tValid Loss 0.493 \tValid Accuracy 0.828\n",
      "Starting Epoch 13\n",
      "No. epochs: 13 \tTraining Loss: 0.293 \tValid Loss 0.574 \tValid Accuracy 0.82\n",
      "Starting Epoch 14\n",
      "No. epochs: 14 \tTraining Loss: 0.281 \tValid Loss 3.002 \tValid Accuracy 0.336\n",
      "Starting Epoch 15\n",
      "No. epochs: 15 \tTraining Loss: 0.28 \tValid Loss 1.423 \tValid Accuracy 0.359\n",
      "Starting Epoch 16\n",
      "No. epochs: 16 \tTraining Loss: 0.305 \tValid Loss 1.498 \tValid Accuracy 0.344\n",
      "Starting Epoch 17\n",
      "No. epochs: 17 \tTraining Loss: 0.338 \tValid Loss 1.014 \tValid Accuracy 0.344\n",
      "Starting Epoch 18\n",
      "No. epochs: 18 \tTraining Loss: 0.32 \tValid Loss 0.849 \tValid Accuracy 0.867\n",
      "Starting Epoch 19\n",
      "No. epochs: 19 \tTraining Loss: 0.27 \tValid Loss 0.594 \tValid Accuracy 0.82\n",
      "Starting Epoch 20\n",
      "No. epochs: 20 \tTraining Loss: 0.314 \tValid Loss 1.047 \tValid Accuracy 0.367\n",
      "Starting Epoch 21\n",
      "No. epochs: 21 \tTraining Loss: 0.27 \tValid Loss 0.503 \tValid Accuracy 0.852\n",
      "Starting Epoch 22\n",
      "No. epochs: 22 \tTraining Loss: 0.281 \tValid Loss 0.567 \tValid Accuracy 0.852\n",
      "Starting Epoch 23\n",
      "No. epochs: 23 \tTraining Loss: 0.277 \tValid Loss 1.364 \tValid Accuracy 0.297\n",
      "Starting Epoch 24\n",
      "No. epochs: 24 \tTraining Loss: 0.278 \tValid Loss 0.553 \tValid Accuracy 0.852\n",
      "Starting Epoch 25\n",
      "No. epochs: 25 \tTraining Loss: 0.276 \tValid Loss 1.082 \tValid Accuracy 0.328\n",
      "Starting Epoch 26\n",
      "No. epochs: 26 \tTraining Loss: 0.293 \tValid Loss 0.546 \tValid Accuracy 0.844\n",
      "Starting Epoch 27\n",
      "No. epochs: 27 \tTraining Loss: 0.317 \tValid Loss 0.536 \tValid Accuracy 0.844\n",
      "Starting Epoch 28\n",
      "No. epochs: 28 \tTraining Loss: 0.265 \tValid Loss 0.577 \tValid Accuracy 0.828\n",
      "Starting Epoch 29\n",
      "No. epochs: 29 \tTraining Loss: 0.275 \tValid Loss 2.424 \tValid Accuracy 0.328\n",
      "Starting Epoch 30\n",
      "No. epochs: 30 \tTraining Loss: 0.318 \tValid Loss 0.603 \tValid Accuracy 0.82\n",
      "Starting Epoch 31\n",
      "No. epochs: 31 \tTraining Loss: 0.308 \tValid Loss 0.799 \tValid Accuracy 0.859\n",
      "Starting Epoch 32\n",
      "No. epochs: 32 \tTraining Loss: 0.273 \tValid Loss 1.7 \tValid Accuracy 0.32\n",
      "Starting Epoch 33\n",
      "No. epochs: 33 \tTraining Loss: 0.296 \tValid Loss 0.533 \tValid Accuracy 0.836\n",
      "Starting Epoch 34\n",
      "No. epochs: 34 \tTraining Loss: 0.356 \tValid Loss 0.542 \tValid Accuracy 0.836\n",
      "Starting Epoch 35\n",
      "No. epochs: 35 \tTraining Loss: 0.273 \tValid Loss 0.629 \tValid Accuracy 0.836\n",
      "Starting Epoch 36\n",
      "No. epochs: 36 \tTraining Loss: 0.279 \tValid Loss 1.461 \tValid Accuracy 0.367\n",
      "Starting Epoch 37\n",
      "No. epochs: 37 \tTraining Loss: 0.323 \tValid Loss 1.514 \tValid Accuracy 0.352\n",
      "Starting Epoch 38\n",
      "No. epochs: 38 \tTraining Loss: 0.306 \tValid Loss 0.57 \tValid Accuracy 0.867\n",
      "Starting Epoch 39\n",
      "No. epochs: 39 \tTraining Loss: 0.277 \tValid Loss 0.721 \tValid Accuracy 0.875\n",
      "Starting Epoch 40\n",
      "No. epochs: 40 \tTraining Loss: 0.306 \tValid Loss 0.994 \tValid Accuracy 0.312\n",
      "Starting Epoch 41\n",
      "No. epochs: 41 \tTraining Loss: 0.283 \tValid Loss 0.542 \tValid Accuracy 0.836\n",
      "Starting Epoch 42\n",
      "No. epochs: 42 \tTraining Loss: 0.297 \tValid Loss 2.562 \tValid Accuracy 0.312\n",
      "Starting Epoch 43\n",
      "No. epochs: 43 \tTraining Loss: 0.293 \tValid Loss 0.506 \tValid Accuracy 0.875\n",
      "Starting Epoch 44\n",
      "No. epochs: 44 \tTraining Loss: 0.285 \tValid Loss 0.598 \tValid Accuracy 0.844\n",
      "Starting Epoch 45\n",
      "No. epochs: 45 \tTraining Loss: 0.29 \tValid Loss 0.879 \tValid Accuracy 0.828\n",
      "Starting Epoch 46\n",
      "No. epochs: 46 \tTraining Loss: 0.298 \tValid Loss 3.378 \tValid Accuracy 0.352\n",
      "Starting Epoch 47\n",
      "No. epochs: 47 \tTraining Loss: 0.289 \tValid Loss 1.818 \tValid Accuracy 0.328\n",
      "Starting Epoch 48\n",
      "No. epochs: 48 \tTraining Loss: 0.291 \tValid Loss 0.504 \tValid Accuracy 0.859\n",
      "Starting Epoch 49\n",
      "No. epochs: 49 \tTraining Loss: 0.298 \tValid Loss 0.556 \tValid Accuracy 0.836\n",
      "Starting Epoch 50\n",
      "No. epochs: 50 \tTraining Loss: 0.321 \tValid Loss 0.527 \tValid Accuracy 0.852\n"
     ]
    }
   ],
   "source": [
    "epochs = 50\n",
    "steps = 0\n",
    "print_every = 10\n",
    "\n",
    "#for ploting Graphs\n",
    "valid_loss_A = []\n",
    "valid_accuracy_A= []\n",
    "train_loss_A= []\n",
    "\n",
    "#change to gpu mode\n",
    "model.to(device)\n",
    "model.train()\n",
    "\n",
    "for e in range(epochs):\n",
    "    print(\"Starting Epoch\",e+1)\n",
    "    running_loss = 0\n",
    "    \n",
    "    # Iterating over data to carry out training step\n",
    "    for ii, (inputs, labels) in enumerate(trainloader):\n",
    "        steps += 1\n",
    "        \n",
    "        inputs, labels = inputs.to(device), labels.to(device)\n",
    "        \n",
    "        # zeroing parameter gradients\n",
    "        optimizer.zero_grad()\n",
    "        \n",
    "        # Forward and backward passes\n",
    "        outputs = model.forward(inputs)\n",
    "        loss = criterion(outputs, labels)\n",
    "        loss.backward()\n",
    "        optimizer.step()\n",
    "        running_loss += loss.item()\n",
    "        \n",
    "        # Carrying out validation step\n",
    "        if steps % print_every == 0:\n",
    "            # setting model to evaluation mode during validation\n",
    "            model.eval()\n",
    "            # Gradients are turned off as no longer in training\n",
    "            with torch.no_grad():\n",
    "                valid_loss, accuracy = validation(model, validloader, criterion)\n",
    "            \n",
    "            ValidLoss = round(valid_loss/len(validloader),3)\n",
    "            ValidAccuracy = round(float(accuracy/len(validloader)),3)\n",
    "            TrainingLoss = round(running_loss/print_every,3)\n",
    "            print(\"No. epochs:\",(e+1),\"\\tTraining Loss:\",TrainingLoss,\"\\tValid Loss\",ValidLoss,\"\\tValid Accuracy\",ValidAccuracy)\n",
    "            \n",
    "            valid_loss_A.append(ValidLoss)\n",
    "            valid_accuracy_A.append(ValidAccuracy)\n",
    "            train_loss_A.append(TrainingLoss)\n",
    "\n",
    "\n",
    "            if (e+1)  == epochs :\n",
    "              #Saving: feature weights, new model.fc, index-to-class mapping, optimiser state, and No. of epochs\n",
    "              checkpoint = {\n",
    "              'state_dict': model.state_dict(),\n",
    "              'model': model.fc,\n",
    "              'class_to_idx': dataset.class_to_idx,\n",
    "              'opt_state': optimizer.state_dict,\n",
    "              'num_epochs': epochs}\n",
    "              #name = str(e)\n",
    "              path = 'Model/modelFinal.pth'\n",
    "              torch.save(checkpoint, path)\n",
    "\n",
    "            # Turning training back on\n",
    "            model.train()\n",
    "            lrscheduler.step(accuracy * 100)"
   ]
  },
  {
   "cell_type": "code",
   "execution_count": 9,
   "metadata": {
    "colab": {
     "base_uri": "https://localhost:8080/",
     "height": 573
    },
    "id": "sJazK0zUtff6",
    "outputId": "c1f988aa-d5f5-4b1d-fd7e-2b13538bb50e"
   },
   "outputs": [
    {
     "data": {
      "image/png": "[encoded data removed]",
      "text/plain": [
       "<Figure size 640x480 with 1 Axes>"
      ]
     },
     "metadata": {},
     "output_type": "display_data"
    },
    {
     "data": {
      "image/png": "[encoded data removed]",
      "text/plain": [
       "<Figure size 640x480 with 1 Axes>"
      ]
     },
     "metadata": {},
     "output_type": "display_data"
    }
   ],
   "source": [
    "epochs = range(len(valid_accuracy_A))\n",
    "\n",
    "\n",
    "plt.plot(epochs, valid_loss_A, 'r', label='Valid Loss')\n",
    "plt.plot(epochs, train_loss_A, 'b', label='Train Loss')\n",
    "plt.title('Valid Loss and Train Loss')\n",
    "plt.ylabel('Loss') \n",
    "plt.xlabel('Epochs')\n",
    "plt.legend()\n",
    "plt.figure()\n",
    "plt.plot(epochs, valid_loss_A, 'r', label='Valid Loss')\n",
    "plt.plot(epochs, valid_accuracy_A, 'b', label='Valid Accuracy')\n",
    "plt.title('Valid Loss and Valid Accuracy')\n",
    "plt.ylabel('Validation') \n",
    "plt.xlabel('Epochs')\n",
    "plt.legend()\n",
    "plt.show()"
   ]
  },
  {
   "cell_type": "code",
   "execution_count": null,
   "metadata": {
    "id": "0FCqpxM3t1s_"
   },
   "outputs": [],
   "source": []
  }
 ],
 "metadata": {
  "accelerator": "GPU",
  "colab": {
   "collapsed_sections": [],
   "name": "Training.ipynb",
   "provenance": []
  },
  "kernelspec": {
   "display_name": "Python 3",
   "language": "python",
   "name": "python3"
  },
  "language_info": {
   "codemirror_mode": {
    "name": "ipython",
    "version": 3
   },
   "file_extension": ".py",
   "mimetype": "text/x-python",
   "name": "python",
   "nbconvert_exporter": "python",
   "pygments_lexer": "ipython3",
   "version": "3.11.3"
  }
 },
 "nbformat": 4,
 "nbformat_minor": 1
}
