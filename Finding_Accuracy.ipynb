{
 "cells": [
  {
   "cell_type": "code",
   "execution_count": 10,
   "metadata": {
    "id": "IOsqepNbWlJB"
   },
   "outputs": [],
   "source": [
    "import matplotlib.pyplot as plt\n",
    "import numpy as np\n",
    "import seaborn as sn\n",
    "import pandas as pd\n",
    "import torch\n",
    "from torch import nn\n",
    "from torch import optim\n",
    "import torch.nn.functional as F\n",
    "from torchvision import datasets, transforms, models\n",
    "import torchvision.models as models\n",
    "from PIL import Image\n",
    "import json\n",
    "from matplotlib.ticker import FormatStrFormatter\n",
    "from sklearn.metrics import confusion_matrix\n",
    "import os"
   ]
  },
  {
   "cell_type": "code",
   "execution_count": 11,
   "metadata": {
    "colab": {
     "base_uri": "https://localhost:8080/"
    },
    "id": "zne_sa5zWpoi",
    "outputId": "1ece5221-5fd8-4ac1-859d-2979a1be088b"
   },
   "outputs": [
    {
     "name": "stdout",
     "output_type": "stream",
     "text": [
      "cpu\n"
     ]
    }
   ],
   "source": [
    "device = torch.device(\"cuda\" if torch.cuda.is_available() else \"cpu\")\n",
    "print(device)"
   ]
  },
  {
   "cell_type": "code",
   "execution_count": 12,
   "metadata": {
    "id": "YW6DGuaSWrSE"
   },
   "outputs": [],
   "source": [
    "def load_checkpoint(filepath):\n",
    "\n",
    "    #checkpoint = torch.load(filepath,map_location='cpu') #unka\n",
    "    checkpoint = torch.load(filepath, map_location=lambda storage, loc: storage)\n",
    "    \n",
    "    #model.load_state_dict(checkpoint['state_dict'])\n",
    "    model = models.resnet34(pretrained=True)\n",
    "    num_ftrs = model.fc.in_features\n",
    "    model.fc = nn.Linear(num_ftrs, 5)\n",
    "    model.load_state_dict(checkpoint['state_dict'])\n",
    "    model.class_to_idx = checkpoint['class_to_idx']\n",
    "    \n",
    "    return model"
   ]
  },
  {
   "cell_type": "code",
   "execution_count": 18,
   "metadata": {
    "id": "qRy29eJ2WtQ4"
   },
   "outputs": [],
   "source": [
    "test_transforms = transforms.Compose([transforms.Resize((244,244)),\n",
    "                                      transforms.ToTensor(),])\n",
    "test_dir = 'Dataset/Dataset/Test/'\n",
    "test_dataset =  datasets.ImageFolder(test_dir,transform=test_transforms)\n",
    "testloader = torch.utils.data.DataLoader(test_dataset, batch_size=1024, shuffle=True)"
   ]
  },
  {
   "cell_type": "code",
   "execution_count": null,
   "metadata": {
    "id": "B0QThsLgWwAI"
   },
   "outputs": [],
   "source": [
    "def Cal_Accuracy(model):\n",
    "  correct = 0\n",
    "  total = 0\n",
    "  model = model.to(device)\n",
    "  predlist=torch.zeros(0,dtype=torch.long,device=device)\n",
    "  lbllist=torch.zeros(0,dtype=torch.long,device=device)\n",
    "  with torch.no_grad():\n",
    "    for data in testloader:\n",
    "        images, labels = data\n",
    "        images, labels = images.to(device), labels.to(device)\n",
    "        # Get probabilities\n",
    "        outputs = model(images)\n",
    "        # Turn probabilities into predictions\n",
    "        _, predicted_outcome = torch.max(outputs.data, 1)\n",
    "        # Total number of images\n",
    "        total += labels.size(0)\n",
    "        # Count number of cases in which predictions are correct\n",
    "        correct += (predicted_outcome == labels).sum().item()\n",
    "        # Append batch prediction results\n",
    "        predlist=torch.cat([predlist,predicted_outcome.view(-1)])\n",
    "        lbllist=torch.cat([lbllist,labels.view(-1)])\n",
    "\n",
    "  conf_mat=confusion_matrix(lbllist.cpu().numpy(), predlist.cpu().numpy())\n",
    "  Acc = round(100 * correct / total,3)\n",
    "  return Acc, conf_mat"
   ]
  },
  {
   "cell_type": "code",
   "execution_count": null,
   "metadata": {
    "colab": {
     "base_uri": "https://localhost:8080/",
     "height": 117,
     "referenced_widgets": [
      "55300f7354e94dfd8098226c0ec4c9a3",
      "a356c655e3304798b3c3ba0c3e522c49",
      "786e08e9679f4c219d8fbb98b08c8f1f",
      "60125abc0fcd46ffab5fb0615dff9c37",
      "3c12b93705da408aa0a17dbbd529430c",
      "fa9ff2208d8e46e4bb9026ad3e32c42b",
      "3fde7c5a22594fafb855d41f3bb582bd",
      "6226d3d3c3e84ec4a3ccc342a99c81b7"
     ]
    },
    "id": "3L69eMjRWyC0",
    "outputId": "25adec7d-06e0-42a0-b422-40058e047953"
   },
   "outputs": [
    {
     "name": "stderr",
     "output_type": "stream",
     "text": [
      "c:\\Users\\sai64\\OneDrive\\Desktop\\Studies\\mini\\Detection-of-Rotten-Fruits-DRF-Using-Image-Processing-Python\\work\\Lib\\site-packages\\torchvision\\models\\_utils.py:208: UserWarning: The parameter 'pretrained' is deprecated since 0.13 and may be removed in the future, please use 'weights' instead.\n",
      "  warnings.warn(\n",
      "c:\\Users\\sai64\\OneDrive\\Desktop\\Studies\\mini\\Detection-of-Rotten-Fruits-DRF-Using-Image-Processing-Python\\work\\Lib\\site-packages\\torchvision\\models\\_utils.py:223: UserWarning: Arguments other than a weight enum or `None` for 'weights' are deprecated since 0.13 and may be removed in the future. The current behavior is equivalent to passing `weights=ResNet34_Weights.IMAGENET1K_V1`. You can also use `weights=ResNet34_Weights.DEFAULT` to get the most up-to-date weights.\n",
      "  warnings.warn(msg)\n"
     ]
    },
    {
     "name": "stdout",
     "output_type": "stream",
     "text": [
      "Accuracy: 88.0 %\n"
     ]
    }
   ],
   "source": [
    "model_name = \"modelFinal\"\n",
    "path = \"Model/\"+model_name+\".pth\"\n",
    "model = load_checkpoint(path)\n",
    "accuracy , matrix = (Cal_Accuracy(model))\n",
    "print(\"Accuracy:\",accuracy,\"%\")"
   ]
  },
  {
   "cell_type": "code",
   "execution_count": null,
   "metadata": {
    "colab": {
     "base_uri": "https://localhost:8080/"
    },
    "id": "q0enVvtYW0Et",
    "outputId": "1c448d34-b48d-40a8-ab25-a3246a03138c"
   },
   "outputs": [
    {
     "name": "stdout",
     "output_type": "stream",
     "text": [
      "50% Rotten accuracy is: 70.0 %\n",
      "100% Rotten accuracy is: 86.67 %\n",
      "75% Rotten accuracy is: 90.0 %\n",
      "25% Rotten accuracy is: 93.33 %\n",
      "0% Rotten accuracy is: 100.0 %\n"
     ]
    }
   ],
   "source": [
    "class_accuracy=(100*matrix.diagonal()/matrix.sum(1)).round(2)\n",
    "class_acc = dict(zip(test_dataset.classes,class_accuracy))\n",
    "class_acc = sorted(class_acc.items(), key=lambda x: x[1])    \n",
    "\n",
    "\n",
    "for i in range(5):\n",
    "  print(class_acc[i][0],\"accuracy is:\",class_acc[i][1],\"%\")"
   ]
  },
  {
   "cell_type": "code",
   "execution_count": null,
   "metadata": {
    "colab": {
     "base_uri": "https://localhost:8080/",
     "height": 613
    },
    "id": "VjJAqf-JW12k",
    "outputId": "fd8f7000-953b-4487-cc38-a51441265390"
   },
   "outputs": [
    {
     "data": {
      "text/plain": [
       "<Axes: >"
      ]
     },
     "execution_count": 8,
     "metadata": {},
     "output_type": "execute_result"
    },
    {
     "data": {
      "image/png": "[encoded data removed]",
      "text/plain": [
       "<Figure size 1500x1000 with 2 Axes>"
      ]
     },
     "metadata": {},
     "output_type": "display_data"
    }
   ],
   "source": [
    "\n",
    "'''df_cm = pd.DataFrame(matrix,range(5), range(5))\n",
    "plt.figure(figsize = (15,10))\n",
    "sn.heatmap(df_cm, annot=True)'''\n"
   ]
  },
  {
   "cell_type": "code",
   "execution_count": null,
   "metadata": {
    "id": "Xa_o4RXEW5Q5"
   },
   "outputs": [],
   "source": []
  }
 ],
 "metadata": {
  "accelerator": "GPU",
  "colab": {
   "collapsed_sections": [],
   "name": "Finding Accuracy.ipynb",
   "provenance": []
  },
  "kernelspec": {
   "display_name": "Python 3",
   "language": "python",
   "name": "python3"
  },
  "language_info": {
   "codemirror_mode": {
    "name": "ipython",
    "version": 3
   },
   "file_extension": ".py",
   "mimetype": "text/x-python",
   "name": "python",
   "nbconvert_exporter": "python",
   "pygments_lexer": "ipython3",
   "version": "3.11.3"
  },
  "widgets": {
   "application/vnd.jupyter.widget-state+json": {
    "3c12b93705da408aa0a17dbbd529430c": {
     "model_module": "@jupyter-widgets/controls",
     "model_name": "ProgressStyleModel",
     "state": {
      "_model_module": "@jupyter-widgets/controls",
      "_model_module_version": "1.5.0",
      "_model_name": "ProgressStyleModel",
      "_view_count": null,
      "_view_module": "@jupyter-widgets/base",
      "_view_module_version": "1.2.0",
      "_view_name": "StyleView",
      "bar_color": null,
      "description_width": "initial"
     }
    },
    "3fde7c5a22594fafb855d41f3bb582bd": {
     "model_module": "@jupyter-widgets/controls",
     "model_name": "DescriptionStyleModel",
     "state": {
      "_model_module": "@jupyter-widgets/controls",
      "_model_module_version": "1.5.0",
      "_model_name": "DescriptionStyleModel",
      "_view_count": null,
      "_view_module": "@jupyter-widgets/base",
      "_view_module_version": "1.2.0",
      "_view_name": "StyleView",
      "description_width": ""
     }
    },
    "55300f7354e94dfd8098226c0ec4c9a3": {
     "model_module": "@jupyter-widgets/controls",
     "model_name": "HBoxModel",
     "state": {
      "_dom_classes": [],
      "_model_module": "@jupyter-widgets/controls",
      "_model_module_version": "1.5.0",
      "_model_name": "HBoxModel",
      "_view_count": null,
      "_view_module": "@jupyter-widgets/controls",
      "_view_module_version": "1.5.0",
      "_view_name": "HBoxView",
      "box_style": "",
      "children": [
       "IPY_MODEL_786e08e9679f4c219d8fbb98b08c8f1f",
       "IPY_MODEL_60125abc0fcd46ffab5fb0615dff9c37"
      ],
      "layout": "IPY_MODEL_a356c655e3304798b3c3ba0c3e522c49"
     }
    },
    "60125abc0fcd46ffab5fb0615dff9c37": {
     "model_module": "@jupyter-widgets/controls",
     "model_name": "HTMLModel",
     "state": {
      "_dom_classes": [],
      "_model_module": "@jupyter-widgets/controls",
      "_model_module_version": "1.5.0",
      "_model_name": "HTMLModel",
      "_view_count": null,
      "_view_module": "@jupyter-widgets/controls",
      "_view_module_version": "1.5.0",
      "_view_name": "HTMLView",
      "description": "",
      "description_tooltip": null,
      "layout": "IPY_MODEL_6226d3d3c3e84ec4a3ccc342a99c81b7",
      "placeholder": "​",
      "style": "IPY_MODEL_3fde7c5a22594fafb855d41f3bb582bd",
      "value": " 83.3M/83.3M [00:20&lt;00:00, 4.26MB/s]"
     }
    },
    "6226d3d3c3e84ec4a3ccc342a99c81b7": {
     "model_module": "@jupyter-widgets/base",
     "model_name": "LayoutModel",
     "state": {
      "_model_module": "@jupyter-widgets/base",
      "_model_module_version": "1.2.0",
      "_model_name": "LayoutModel",
      "_view_count": null,
      "_view_module": "@jupyter-widgets/base",
      "_view_module_version": "1.2.0",
      "_view_name": "LayoutView",
      "align_content": null,
      "align_items": null,
      "align_self": null,
      "border": null,
      "bottom": null,
      "display": null,
      "flex": null,
      "flex_flow": null,
      "grid_area": null,
      "grid_auto_columns": null,
      "grid_auto_flow": null,
      "grid_auto_rows": null,
      "grid_column": null,
      "grid_gap": null,
      "grid_row": null,
      "grid_template_areas": null,
      "grid_template_columns": null,
      "grid_template_rows": null,
      "height": null,
      "justify_content": null,
      "justify_items": null,
      "left": null,
      "margin": null,
      "max_height": null,
      "max_width": null,
      "min_height": null,
      "min_width": null,
      "object_fit": null,
      "object_position": null,
      "order": null,
      "overflow": null,
      "overflow_x": null,
      "overflow_y": null,
      "padding": null,
      "right": null,
      "top": null,
      "visibility": null,
      "width": null
     }
    },
    "786e08e9679f4c219d8fbb98b08c8f1f": {
     "model_module": "@jupyter-widgets/controls",
     "model_name": "FloatProgressModel",
     "state": {
      "_dom_classes": [],
      "_model_module": "@jupyter-widgets/controls",
      "_model_module_version": "1.5.0",
      "_model_name": "FloatProgressModel",
      "_view_count": null,
      "_view_module": "@jupyter-widgets/controls",
      "_view_module_version": "1.5.0",
      "_view_name": "ProgressView",
      "bar_style": "success",
      "description": "100%",
      "description_tooltip": null,
      "layout": "IPY_MODEL_fa9ff2208d8e46e4bb9026ad3e32c42b",
      "max": 87306240,
      "min": 0,
      "orientation": "horizontal",
      "style": "IPY_MODEL_3c12b93705da408aa0a17dbbd529430c",
      "value": 87306240
     }
    },
    "a356c655e3304798b3c3ba0c3e522c49": {
     "model_module": "@jupyter-widgets/base",
     "model_name": "LayoutModel",
     "state": {
      "_model_module": "@jupyter-widgets/base",
      "_model_module_version": "1.2.0",
      "_model_name": "LayoutModel",
      "_view_count": null,
      "_view_module": "@jupyter-widgets/base",
      "_view_module_version": "1.2.0",
      "_view_name": "LayoutView",
      "align_content": null,
      "align_items": null,
      "align_self": null,
      "border": null,
      "bottom": null,
      "display": null,
      "flex": null,
      "flex_flow": null,
      "grid_area": null,
      "grid_auto_columns": null,
      "grid_auto_flow": null,
      "grid_auto_rows": null,
      "grid_column": null,
      "grid_gap": null,
      "grid_row": null,
      "grid_template_areas": null,
      "grid_template_columns": null,
      "grid_template_rows": null,
      "height": null,
      "justify_content": null,
      "justify_items": null,
      "left": null,
      "margin": null,
      "max_height": null,
      "max_width": null,
      "min_height": null,
      "min_width": null,
      "object_fit": null,
      "object_position": null,
      "order": null,
      "overflow": null,
      "overflow_x": null,
      "overflow_y": null,
      "padding": null,
      "right": null,
      "top": null,
      "visibility": null,
      "width": null
     }
    },
    "fa9ff2208d8e46e4bb9026ad3e32c42b": {
     "model_module": "@jupyter-widgets/base",
     "model_name": "LayoutModel",
     "state": {
      "_model_module": "@jupyter-widgets/base",
      "_model_module_version": "1.2.0",
      "_model_name": "LayoutModel",
      "_view_count": null,
      "_view_module": "@jupyter-widgets/base",
      "_view_module_version": "1.2.0",
      "_view_name": "LayoutView",
      "align_content": null,
      "align_items": null,
      "align_self": null,
      "border": null,
      "bottom": null,
      "display": null,
      "flex": null,
      "flex_flow": null,
      "grid_area": null,
      "grid_auto_columns": null,
      "grid_auto_flow": null,
      "grid_auto_rows": null,
      "grid_column": null,
      "grid_gap": null,
      "grid_row": null,
      "grid_template_areas": null,
      "grid_template_columns": null,
      "grid_template_rows": null,
      "height": null,
      "justify_content": null,
      "justify_items": null,
      "left": null,
      "margin": null,
      "max_height": null,
      "max_width": null,
      "min_height": null,
      "min_width": null,
      "object_fit": null,
      "object_position": null,
      "order": null,
      "overflow": null,
      "overflow_x": null,
      "overflow_y": null,
      "padding": null,
      "right": null,
      "top": null,
      "visibility": null,
      "width": null
     }
    }
   }
  }
 },
 "nbformat": 4,
 "nbformat_minor": 1
}
